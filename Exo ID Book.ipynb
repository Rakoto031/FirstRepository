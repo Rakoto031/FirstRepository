{
  "metadata": {
    "language_info": {
      "codemirror_mode": {
        "name": "python",
        "version": 3
      },
      "file_extension": ".py",
      "mimetype": "text/x-python",
      "name": "python",
      "nbconvert_exporter": "python",
      "pygments_lexer": "ipython3",
      "version": "3.8"
    },
    "kernelspec": {
      "name": "python",
      "display_name": "Python (Pyodide)",
      "language": "python"
    }
  },
  "nbformat_minor": 4,
  "nbformat": 4,
  "cells": [
    {
      "cell_type": "code",
      "source": "import time\nimport pandas as pd\nimport numpy as np",
      "metadata": {
        "trusted": true
      },
      "execution_count": 1,
      "outputs": []
    },
    {
      "cell_type": "code",
      "source": "with open('books-published-last-two-years.txt') as f:\n          recent_books = f.read().split('\\n')",
      "metadata": {
        "trusted": true
      },
      "execution_count": 25,
      "outputs": []
    },
    {
      "cell_type": "code",
      "source": "with open('all-coding-books.txt') as f:\n          coding_books = f.read().split('\\n')",
      "metadata": {
        "trusted": true
      },
      "execution_count": 24,
      "outputs": []
    },
    {
      "cell_type": "code",
      "source": "start = time.time()\nrecent_coding_books = []",
      "metadata": {
        "trusted": true
      },
      "execution_count": 26,
      "outputs": []
    },
    {
      "cell_type": "code",
      "source": "for book in recent_books:\n    if book in coding_books:\n        recent_coding_books.append(book)",
      "metadata": {
        "trusted": true
      },
      "execution_count": 28,
      "outputs": []
    },
    {
      "cell_type": "code",
      "source": "print(len(recent_coding_books))\nprint('Duration: {} seconds'.format(time.time() - start))",
      "metadata": {
        "trusted": true
      },
      "execution_count": 30,
      "outputs": [
        {
          "name": "stdout",
          "text": "97\nDuration: 265.64800000190735 seconds\n",
          "output_type": "stream"
        }
      ]
    },
    {
      "cell_type": "code",
      "source": "start = time.time()\nrecent_coding_books = np.intersect1d(recent_books, coding_books)\nprint(len(recent_coding_books))\nprint('Duration: {} seconds'.format(time.time() - start))",
      "metadata": {
        "trusted": true
      },
      "execution_count": 32,
      "outputs": [
        {
          "name": "stdout",
          "text": "97\nDuration: 0.06999993324279785 seconds\n",
          "output_type": "stream"
        }
      ]
    },
    {
      "cell_type": "code",
      "source": "start = time.time()\nrecent_coding_books = set(recent_books).intersection(coding_books)\nprint(len(recent_coding_books))\nprint('Duration: {} seconds'.format(time.time() - start))",
      "metadata": {
        "trusted": true
      },
      "execution_count": 33,
      "outputs": [
        {
          "name": "stdout",
          "text": "97\nDuration: 0.00599980354309082 seconds\n",
          "output_type": "stream"
        }
      ]
    },
    {
      "cell_type": "code",
      "source": "",
      "metadata": {},
      "execution_count": null,
      "outputs": []
    }
  ]
}